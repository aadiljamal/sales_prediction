{
 "cells": [
  {
   "cell_type": "code",
   "execution_count": 1,
   "metadata": {
    "_cell_guid": "b1076dfc-b9ad-4769-8c92-a6c4dae69d19",
    "_uuid": "8f2839f25d086af736a60e9eeb907d3b93b6e0e5",
    "execution": {
     "iopub.execute_input": "2022-09-17T12:37:58.463373Z",
     "iopub.status.busy": "2022-09-17T12:37:58.462752Z",
     "iopub.status.idle": "2022-09-17T12:37:58.589767Z",
     "shell.execute_reply": "2022-09-17T12:37:58.588765Z",
     "shell.execute_reply.started": "2022-09-17T12:37:58.463312Z"
    }
   },
   "outputs": [],
   "source": [
    "import numpy as np\n",
    "import matplotlib.pyplot as plt\n",
    "import pandas as pd\n",
    "import seaborn as sns\n",
    "\n",
    "from sklearn.model_selection import train_test_split, cross_val_score\n",
    "from sklearn.preprocessing import LabelEncoder, OneHotEncoder\n",
    "from sklearn.pipeline import Pipeline\n",
    "from sklearn.impute import SimpleImputer\n",
    "from sklearn.compose import ColumnTransformer\n",
    "from sklearn.ensemble import RandomForestRegressor\n",
    "from sklearn.metrics import mean_absolute_error\n",
    "\n",
    "from xgboost import XGBRegressor\n"
   ]
  },
  {
   "cell_type": "markdown",
   "metadata": {},
   "source": [
    "## Predict rent prices\n",
    "1. Use pipeline\n",
    "2. Cross validation\n",
    "3. XGBoost"
   ]
  },
  {
   "cell_type": "code",
   "execution_count": 3,
   "metadata": {
    "execution": {
     "iopub.execute_input": "2022-09-17T10:58:07.426681Z",
     "iopub.status.busy": "2022-09-17T10:58:07.42626Z",
     "iopub.status.idle": "2022-09-17T10:58:07.499114Z",
     "shell.execute_reply": "2022-09-17T10:58:07.497861Z",
     "shell.execute_reply.started": "2022-09-17T10:58:07.426641Z"
    }
   },
   "outputs": [
    {
     "name": "stdout",
     "output_type": "stream",
     "text": [
      "(4746, 12)\n"
     ]
    },
    {
     "data": {
      "text/html": [
       "<div>\n",
       "<style scoped>\n",
       "    .dataframe tbody tr th:only-of-type {\n",
       "        vertical-align: middle;\n",
       "    }\n",
       "\n",
       "    .dataframe tbody tr th {\n",
       "        vertical-align: top;\n",
       "    }\n",
       "\n",
       "    .dataframe thead th {\n",
       "        text-align: right;\n",
       "    }\n",
       "</style>\n",
       "<table border=\"1\" class=\"dataframe\">\n",
       "  <thead>\n",
       "    <tr style=\"text-align: right;\">\n",
       "      <th></th>\n",
       "      <th>Posted On</th>\n",
       "      <th>BHK</th>\n",
       "      <th>Rent</th>\n",
       "      <th>Size</th>\n",
       "      <th>Floor</th>\n",
       "      <th>Area Type</th>\n",
       "      <th>Area Locality</th>\n",
       "      <th>City</th>\n",
       "      <th>Furnishing Status</th>\n",
       "      <th>Tenant Preferred</th>\n",
       "      <th>Bathroom</th>\n",
       "      <th>Point of Contact</th>\n",
       "    </tr>\n",
       "  </thead>\n",
       "  <tbody>\n",
       "    <tr>\n",
       "      <th>0</th>\n",
       "      <td>2022-05-18</td>\n",
       "      <td>2</td>\n",
       "      <td>10000</td>\n",
       "      <td>1100</td>\n",
       "      <td>Ground out of 2</td>\n",
       "      <td>Super Area</td>\n",
       "      <td>Bandel</td>\n",
       "      <td>Kolkata</td>\n",
       "      <td>Unfurnished</td>\n",
       "      <td>Bachelors/Family</td>\n",
       "      <td>2</td>\n",
       "      <td>Contact Owner</td>\n",
       "    </tr>\n",
       "    <tr>\n",
       "      <th>1</th>\n",
       "      <td>2022-05-13</td>\n",
       "      <td>2</td>\n",
       "      <td>20000</td>\n",
       "      <td>800</td>\n",
       "      <td>1 out of 3</td>\n",
       "      <td>Super Area</td>\n",
       "      <td>Phool Bagan, Kankurgachi</td>\n",
       "      <td>Kolkata</td>\n",
       "      <td>Semi-Furnished</td>\n",
       "      <td>Bachelors/Family</td>\n",
       "      <td>1</td>\n",
       "      <td>Contact Owner</td>\n",
       "    </tr>\n",
       "    <tr>\n",
       "      <th>2</th>\n",
       "      <td>2022-05-16</td>\n",
       "      <td>2</td>\n",
       "      <td>17000</td>\n",
       "      <td>1000</td>\n",
       "      <td>1 out of 3</td>\n",
       "      <td>Super Area</td>\n",
       "      <td>Salt Lake City Sector 2</td>\n",
       "      <td>Kolkata</td>\n",
       "      <td>Semi-Furnished</td>\n",
       "      <td>Bachelors/Family</td>\n",
       "      <td>1</td>\n",
       "      <td>Contact Owner</td>\n",
       "    </tr>\n",
       "    <tr>\n",
       "      <th>3</th>\n",
       "      <td>2022-07-04</td>\n",
       "      <td>2</td>\n",
       "      <td>10000</td>\n",
       "      <td>800</td>\n",
       "      <td>1 out of 2</td>\n",
       "      <td>Super Area</td>\n",
       "      <td>Dumdum Park</td>\n",
       "      <td>Kolkata</td>\n",
       "      <td>Unfurnished</td>\n",
       "      <td>Bachelors/Family</td>\n",
       "      <td>1</td>\n",
       "      <td>Contact Owner</td>\n",
       "    </tr>\n",
       "    <tr>\n",
       "      <th>4</th>\n",
       "      <td>2022-05-09</td>\n",
       "      <td>2</td>\n",
       "      <td>7500</td>\n",
       "      <td>850</td>\n",
       "      <td>1 out of 2</td>\n",
       "      <td>Carpet Area</td>\n",
       "      <td>South Dum Dum</td>\n",
       "      <td>Kolkata</td>\n",
       "      <td>Unfurnished</td>\n",
       "      <td>Bachelors</td>\n",
       "      <td>1</td>\n",
       "      <td>Contact Owner</td>\n",
       "    </tr>\n",
       "  </tbody>\n",
       "</table>\n",
       "</div>"
      ],
      "text/plain": [
       "    Posted On  BHK   Rent  Size            Floor    Area Type  \\\n",
       "0  2022-05-18    2  10000  1100  Ground out of 2   Super Area   \n",
       "1  2022-05-13    2  20000   800       1 out of 3   Super Area   \n",
       "2  2022-05-16    2  17000  1000       1 out of 3   Super Area   \n",
       "3  2022-07-04    2  10000   800       1 out of 2   Super Area   \n",
       "4  2022-05-09    2   7500   850       1 out of 2  Carpet Area   \n",
       "\n",
       "              Area Locality     City Furnishing Status  Tenant Preferred  \\\n",
       "0                    Bandel  Kolkata       Unfurnished  Bachelors/Family   \n",
       "1  Phool Bagan, Kankurgachi  Kolkata    Semi-Furnished  Bachelors/Family   \n",
       "2   Salt Lake City Sector 2  Kolkata    Semi-Furnished  Bachelors/Family   \n",
       "3               Dumdum Park  Kolkata       Unfurnished  Bachelors/Family   \n",
       "4             South Dum Dum  Kolkata       Unfurnished         Bachelors   \n",
       "\n",
       "   Bathroom Point of Contact  \n",
       "0         2    Contact Owner  \n",
       "1         1    Contact Owner  \n",
       "2         1    Contact Owner  \n",
       "3         1    Contact Owner  \n",
       "4         1    Contact Owner  "
      ]
     },
     "execution_count": 3,
     "metadata": {},
     "output_type": "execute_result"
    }
   ],
   "source": [
    "raw_data = pd.read_csv(\"../data/House_Rent_Dataset.csv\")\n",
    "print(raw_data.shape)\n",
    "raw_data.head(5)"
   ]
  },
  {
   "cell_type": "code",
   "execution_count": 4,
   "metadata": {
    "execution": {
     "iopub.execute_input": "2022-09-17T10:58:07.502118Z",
     "iopub.status.busy": "2022-09-17T10:58:07.501652Z",
     "iopub.status.idle": "2022-09-17T10:58:07.542381Z",
     "shell.execute_reply": "2022-09-17T10:58:07.541251Z",
     "shell.execute_reply.started": "2022-09-17T10:58:07.502073Z"
    }
   },
   "outputs": [
    {
     "name": "stdout",
     "output_type": "stream",
     "text": [
      "raw_data_aug shape: (4746, 6)\n",
      "<class 'pandas.core.frame.DataFrame'>\n",
      "RangeIndex: 4746 entries, 0 to 4745\n",
      "Data columns (total 6 columns):\n",
      " #   Column             Non-Null Count  Dtype \n",
      "---  ------             --------------  ----- \n",
      " 0   BHK                4746 non-null   int64 \n",
      " 1   Size               4746 non-null   int64 \n",
      " 2   Area Type          4746 non-null   object\n",
      " 3   City               4746 non-null   object\n",
      " 4   Furnishing Status  4746 non-null   object\n",
      " 5   Bathroom           4746 non-null   int64 \n",
      "dtypes: int64(3), object(3)\n",
      "memory usage: 222.6+ KB\n",
      "None\n"
     ]
    },
    {
     "data": {
      "text/html": [
       "<div>\n",
       "<style scoped>\n",
       "    .dataframe tbody tr th:only-of-type {\n",
       "        vertical-align: middle;\n",
       "    }\n",
       "\n",
       "    .dataframe tbody tr th {\n",
       "        vertical-align: top;\n",
       "    }\n",
       "\n",
       "    .dataframe thead th {\n",
       "        text-align: right;\n",
       "    }\n",
       "</style>\n",
       "<table border=\"1\" class=\"dataframe\">\n",
       "  <thead>\n",
       "    <tr style=\"text-align: right;\">\n",
       "      <th></th>\n",
       "      <th>BHK</th>\n",
       "      <th>Size</th>\n",
       "      <th>Area Type</th>\n",
       "      <th>City</th>\n",
       "      <th>Furnishing Status</th>\n",
       "      <th>Bathroom</th>\n",
       "    </tr>\n",
       "  </thead>\n",
       "  <tbody>\n",
       "    <tr>\n",
       "      <th>0</th>\n",
       "      <td>2</td>\n",
       "      <td>1100</td>\n",
       "      <td>Super Area</td>\n",
       "      <td>Kolkata</td>\n",
       "      <td>Unfurnished</td>\n",
       "      <td>2</td>\n",
       "    </tr>\n",
       "    <tr>\n",
       "      <th>1</th>\n",
       "      <td>2</td>\n",
       "      <td>800</td>\n",
       "      <td>Super Area</td>\n",
       "      <td>Kolkata</td>\n",
       "      <td>Semi-Furnished</td>\n",
       "      <td>1</td>\n",
       "    </tr>\n",
       "    <tr>\n",
       "      <th>2</th>\n",
       "      <td>2</td>\n",
       "      <td>1000</td>\n",
       "      <td>Super Area</td>\n",
       "      <td>Kolkata</td>\n",
       "      <td>Semi-Furnished</td>\n",
       "      <td>1</td>\n",
       "    </tr>\n",
       "    <tr>\n",
       "      <th>3</th>\n",
       "      <td>2</td>\n",
       "      <td>800</td>\n",
       "      <td>Super Area</td>\n",
       "      <td>Kolkata</td>\n",
       "      <td>Unfurnished</td>\n",
       "      <td>1</td>\n",
       "    </tr>\n",
       "    <tr>\n",
       "      <th>4</th>\n",
       "      <td>2</td>\n",
       "      <td>850</td>\n",
       "      <td>Carpet Area</td>\n",
       "      <td>Kolkata</td>\n",
       "      <td>Unfurnished</td>\n",
       "      <td>1</td>\n",
       "    </tr>\n",
       "  </tbody>\n",
       "</table>\n",
       "</div>"
      ],
      "text/plain": [
       "   BHK  Size    Area Type     City Furnishing Status  Bathroom\n",
       "0    2  1100   Super Area  Kolkata       Unfurnished         2\n",
       "1    2   800   Super Area  Kolkata    Semi-Furnished         1\n",
       "2    2  1000   Super Area  Kolkata    Semi-Furnished         1\n",
       "3    2   800   Super Area  Kolkata       Unfurnished         1\n",
       "4    2   850  Carpet Area  Kolkata       Unfurnished         1"
      ]
     },
     "execution_count": 4,
     "metadata": {},
     "output_type": "execute_result"
    }
   ],
   "source": [
    "# Drop unnecessary columns, and seperate the target column\n",
    "drop_col = ['Posted On', 'Rent', 'Tenant Preferred', 'Point of Contact', 'Floor', 'Area Locality']\n",
    "target = raw_data['Rent']\n",
    "raw_data_aug = raw_data.drop(columns=drop_col)\n",
    "print(f\"raw_data_aug shape:\", raw_data_aug.shape)\n",
    "print(raw_data_aug.info())\n",
    "raw_data_aug.head()"
   ]
  },
  {
   "cell_type": "code",
   "execution_count": 5,
   "metadata": {
    "execution": {
     "iopub.execute_input": "2022-09-17T10:58:07.545055Z",
     "iopub.status.busy": "2022-09-17T10:58:07.544591Z",
     "iopub.status.idle": "2022-09-17T10:58:07.554184Z",
     "shell.execute_reply": "2022-09-17T10:58:07.553023Z",
     "shell.execute_reply.started": "2022-09-17T10:58:07.54501Z"
    }
   },
   "outputs": [
    {
     "name": "stdout",
     "output_type": "stream",
     "text": [
      "Train split:  (3559, 6) (3559,)\n",
      "Test split:  (1187, 6) (1187,)\n"
     ]
    }
   ],
   "source": [
    "# Split raw data into train and test\n",
    "X_train, X_test, y_train, y_test = train_test_split(raw_data_aug, target, test_size=0.25)\n",
    "print(f\"Train split: \",X_train.shape, y_train.shape)\n",
    "print(f\"Test split: \",X_test.shape, y_test.shape)"
   ]
  },
  {
   "cell_type": "code",
   "execution_count": 6,
   "metadata": {
    "execution": {
     "iopub.execute_input": "2022-09-17T10:58:07.556729Z",
     "iopub.status.busy": "2022-09-17T10:58:07.556158Z",
     "iopub.status.idle": "2022-09-17T10:58:07.566192Z",
     "shell.execute_reply": "2022-09-17T10:58:07.564963Z",
     "shell.execute_reply.started": "2022-09-17T10:58:07.556693Z"
    }
   },
   "outputs": [
    {
     "name": "stdout",
     "output_type": "stream",
     "text": [
      "Train split:  (2847, 6) (2847,)\n",
      "Validation split:  (712, 6) (712,)\n"
     ]
    }
   ],
   "source": [
    "# Split prior train into train and validation\n",
    "x_train, x_valid, y_train, y_valid = train_test_split(X_train, y_train, test_size=0.2)\n",
    "print(f\"Train split: \",x_train.shape, y_train.shape)\n",
    "print(f\"Validation split: \",x_valid.shape, y_valid.shape)"
   ]
  },
  {
   "cell_type": "markdown",
   "metadata": {},
   "source": [
    "## Use Pipeline"
   ]
  },
  {
   "cell_type": "code",
   "execution_count": 7,
   "metadata": {
    "execution": {
     "iopub.execute_input": "2022-09-17T10:58:07.595396Z",
     "iopub.status.busy": "2022-09-17T10:58:07.59496Z",
     "iopub.status.idle": "2022-09-17T10:58:07.603615Z",
     "shell.execute_reply": "2022-09-17T10:58:07.602426Z",
     "shell.execute_reply.started": "2022-09-17T10:58:07.595339Z"
    }
   },
   "outputs": [
    {
     "name": "stdout",
     "output_type": "stream",
     "text": [
      "['BHK', 'Size', 'Bathroom']\n",
      "['Area Type', 'City', 'Furnishing Status']\n"
     ]
    }
   ],
   "source": [
    "num_cols = [cname for cname in x_train.columns if x_train[cname].dtype in ['int32', 'int64']]\n",
    "cat_cols = [cname for cname in x_train.columns if x_train[cname].dtype=='object']\n",
    "print(num_cols)\n",
    "print(cat_cols)"
   ]
  },
  {
   "cell_type": "code",
   "execution_count": 8,
   "metadata": {
    "execution": {
     "iopub.execute_input": "2022-09-17T13:00:55.696195Z",
     "iopub.status.busy": "2022-09-17T13:00:55.694622Z",
     "iopub.status.idle": "2022-09-17T13:00:55.703824Z",
     "shell.execute_reply": "2022-09-17T13:00:55.702321Z",
     "shell.execute_reply.started": "2022-09-17T13:00:55.696136Z"
    }
   },
   "outputs": [],
   "source": [
    "numerical_transform = SimpleImputer(strategy=\"most_frequent\")\n",
    "categorical_transform = Pipeline(steps=[\n",
    "    ('impute', SimpleImputer(strategy=\"most_frequent\")),\n",
    "    ('encode', OneHotEncoder(sparse=False, handle_unknown='ignore')) # LabelEncoder doesnt work, why sparse=False?\n",
    "])\n",
    "\n",
    "preprocessing = ColumnTransformer(transformers=[\n",
    "    ('num',numerical_transform,num_cols),\n",
    "    ('cat', categorical_transform,cat_cols)\n",
    "])"
   ]
  },
  {
   "cell_type": "code",
   "execution_count": 9,
   "metadata": {
    "execution": {
     "iopub.execute_input": "2022-09-17T13:00:56.630746Z",
     "iopub.status.busy": "2022-09-17T13:00:56.630221Z",
     "iopub.status.idle": "2022-09-17T13:00:56.636178Z",
     "shell.execute_reply": "2022-09-17T13:00:56.635051Z",
     "shell.execute_reply.started": "2022-09-17T13:00:56.630704Z"
    }
   },
   "outputs": [],
   "source": [
    "model = RandomForestRegressor()"
   ]
  },
  {
   "cell_type": "code",
   "execution_count": 10,
   "metadata": {
    "execution": {
     "iopub.execute_input": "2022-09-17T13:00:56.969725Z",
     "iopub.status.busy": "2022-09-17T13:00:56.969213Z",
     "iopub.status.idle": "2022-09-17T13:00:57.000929Z",
     "shell.execute_reply": "2022-09-17T13:00:56.99965Z",
     "shell.execute_reply.started": "2022-09-17T13:00:56.969684Z"
    }
   },
   "outputs": [
    {
     "data": {
      "text/html": [
       "<style>#sk-container-id-1 {color: black;background-color: white;}#sk-container-id-1 pre{padding: 0;}#sk-container-id-1 div.sk-toggleable {background-color: white;}#sk-container-id-1 label.sk-toggleable__label {cursor: pointer;display: block;width: 100%;margin-bottom: 0;padding: 0.3em;box-sizing: border-box;text-align: center;}#sk-container-id-1 label.sk-toggleable__label-arrow:before {content: \"▸\";float: left;margin-right: 0.25em;color: #696969;}#sk-container-id-1 label.sk-toggleable__label-arrow:hover:before {color: black;}#sk-container-id-1 div.sk-estimator:hover label.sk-toggleable__label-arrow:before {color: black;}#sk-container-id-1 div.sk-toggleable__content {max-height: 0;max-width: 0;overflow: hidden;text-align: left;background-color: #f0f8ff;}#sk-container-id-1 div.sk-toggleable__content pre {margin: 0.2em;color: black;border-radius: 0.25em;background-color: #f0f8ff;}#sk-container-id-1 input.sk-toggleable__control:checked~div.sk-toggleable__content {max-height: 200px;max-width: 100%;overflow: auto;}#sk-container-id-1 input.sk-toggleable__control:checked~label.sk-toggleable__label-arrow:before {content: \"▾\";}#sk-container-id-1 div.sk-estimator input.sk-toggleable__control:checked~label.sk-toggleable__label {background-color: #d4ebff;}#sk-container-id-1 div.sk-label input.sk-toggleable__control:checked~label.sk-toggleable__label {background-color: #d4ebff;}#sk-container-id-1 input.sk-hidden--visually {border: 0;clip: rect(1px 1px 1px 1px);clip: rect(1px, 1px, 1px, 1px);height: 1px;margin: -1px;overflow: hidden;padding: 0;position: absolute;width: 1px;}#sk-container-id-1 div.sk-estimator {font-family: monospace;background-color: #f0f8ff;border: 1px dotted black;border-radius: 0.25em;box-sizing: border-box;margin-bottom: 0.5em;}#sk-container-id-1 div.sk-estimator:hover {background-color: #d4ebff;}#sk-container-id-1 div.sk-parallel-item::after {content: \"\";width: 100%;border-bottom: 1px solid gray;flex-grow: 1;}#sk-container-id-1 div.sk-label:hover label.sk-toggleable__label {background-color: #d4ebff;}#sk-container-id-1 div.sk-serial::before {content: \"\";position: absolute;border-left: 1px solid gray;box-sizing: border-box;top: 0;bottom: 0;left: 50%;z-index: 0;}#sk-container-id-1 div.sk-serial {display: flex;flex-direction: column;align-items: center;background-color: white;padding-right: 0.2em;padding-left: 0.2em;position: relative;}#sk-container-id-1 div.sk-item {position: relative;z-index: 1;}#sk-container-id-1 div.sk-parallel {display: flex;align-items: stretch;justify-content: center;background-color: white;position: relative;}#sk-container-id-1 div.sk-item::before, #sk-container-id-1 div.sk-parallel-item::before {content: \"\";position: absolute;border-left: 1px solid gray;box-sizing: border-box;top: 0;bottom: 0;left: 50%;z-index: -1;}#sk-container-id-1 div.sk-parallel-item {display: flex;flex-direction: column;z-index: 1;position: relative;background-color: white;}#sk-container-id-1 div.sk-parallel-item:first-child::after {align-self: flex-end;width: 50%;}#sk-container-id-1 div.sk-parallel-item:last-child::after {align-self: flex-start;width: 50%;}#sk-container-id-1 div.sk-parallel-item:only-child::after {width: 0;}#sk-container-id-1 div.sk-dashed-wrapped {border: 1px dashed gray;margin: 0 0.4em 0.5em 0.4em;box-sizing: border-box;padding-bottom: 0.4em;background-color: white;}#sk-container-id-1 div.sk-label label {font-family: monospace;font-weight: bold;display: inline-block;line-height: 1.2em;}#sk-container-id-1 div.sk-label-container {text-align: center;}#sk-container-id-1 div.sk-container {/* jupyter's `normalize.less` sets `[hidden] { display: none; }` but bootstrap.min.css set `[hidden] { display: none !important; }` so we also need the `!important` here to be able to override the default hidden behavior on the sphinx rendered scikit-learn.org. See: https://github.com/scikit-learn/scikit-learn/issues/21755 */display: inline-block !important;position: relative;}#sk-container-id-1 div.sk-text-repr-fallback {display: none;}</style><div id=\"sk-container-id-1\" class=\"sk-top-container\"><div class=\"sk-text-repr-fallback\"><pre>Pipeline(steps=[(&#x27;preprocess&#x27;,\n",
       "                 ColumnTransformer(transformers=[(&#x27;num&#x27;,\n",
       "                                                  SimpleImputer(strategy=&#x27;most_frequent&#x27;),\n",
       "                                                  [&#x27;BHK&#x27;, &#x27;Size&#x27;, &#x27;Bathroom&#x27;]),\n",
       "                                                 (&#x27;cat&#x27;,\n",
       "                                                  Pipeline(steps=[(&#x27;impute&#x27;,\n",
       "                                                                   SimpleImputer(strategy=&#x27;most_frequent&#x27;)),\n",
       "                                                                  (&#x27;encode&#x27;,\n",
       "                                                                   OneHotEncoder(handle_unknown=&#x27;ignore&#x27;,\n",
       "                                                                                 sparse=False))]),\n",
       "                                                  [&#x27;Area Type&#x27;, &#x27;City&#x27;,\n",
       "                                                   &#x27;Furnishing Status&#x27;])])),\n",
       "                (&#x27;model&#x27;, RandomForestRegressor())])</pre><b>In a Jupyter environment, please rerun this cell to show the HTML representation or trust the notebook. <br />On GitHub, the HTML representation is unable to render, please try loading this page with nbviewer.org.</b></div><div class=\"sk-container\" hidden><div class=\"sk-item sk-dashed-wrapped\"><div class=\"sk-label-container\"><div class=\"sk-label sk-toggleable\"><input class=\"sk-toggleable__control sk-hidden--visually\" id=\"sk-estimator-id-1\" type=\"checkbox\" ><label for=\"sk-estimator-id-1\" class=\"sk-toggleable__label sk-toggleable__label-arrow\">Pipeline</label><div class=\"sk-toggleable__content\"><pre>Pipeline(steps=[(&#x27;preprocess&#x27;,\n",
       "                 ColumnTransformer(transformers=[(&#x27;num&#x27;,\n",
       "                                                  SimpleImputer(strategy=&#x27;most_frequent&#x27;),\n",
       "                                                  [&#x27;BHK&#x27;, &#x27;Size&#x27;, &#x27;Bathroom&#x27;]),\n",
       "                                                 (&#x27;cat&#x27;,\n",
       "                                                  Pipeline(steps=[(&#x27;impute&#x27;,\n",
       "                                                                   SimpleImputer(strategy=&#x27;most_frequent&#x27;)),\n",
       "                                                                  (&#x27;encode&#x27;,\n",
       "                                                                   OneHotEncoder(handle_unknown=&#x27;ignore&#x27;,\n",
       "                                                                                 sparse=False))]),\n",
       "                                                  [&#x27;Area Type&#x27;, &#x27;City&#x27;,\n",
       "                                                   &#x27;Furnishing Status&#x27;])])),\n",
       "                (&#x27;model&#x27;, RandomForestRegressor())])</pre></div></div></div><div class=\"sk-serial\"><div class=\"sk-item sk-dashed-wrapped\"><div class=\"sk-label-container\"><div class=\"sk-label sk-toggleable\"><input class=\"sk-toggleable__control sk-hidden--visually\" id=\"sk-estimator-id-2\" type=\"checkbox\" ><label for=\"sk-estimator-id-2\" class=\"sk-toggleable__label sk-toggleable__label-arrow\">preprocess: ColumnTransformer</label><div class=\"sk-toggleable__content\"><pre>ColumnTransformer(transformers=[(&#x27;num&#x27;, SimpleImputer(strategy=&#x27;most_frequent&#x27;),\n",
       "                                 [&#x27;BHK&#x27;, &#x27;Size&#x27;, &#x27;Bathroom&#x27;]),\n",
       "                                (&#x27;cat&#x27;,\n",
       "                                 Pipeline(steps=[(&#x27;impute&#x27;,\n",
       "                                                  SimpleImputer(strategy=&#x27;most_frequent&#x27;)),\n",
       "                                                 (&#x27;encode&#x27;,\n",
       "                                                  OneHotEncoder(handle_unknown=&#x27;ignore&#x27;,\n",
       "                                                                sparse=False))]),\n",
       "                                 [&#x27;Area Type&#x27;, &#x27;City&#x27;, &#x27;Furnishing Status&#x27;])])</pre></div></div></div><div class=\"sk-parallel\"><div class=\"sk-parallel-item\"><div class=\"sk-item\"><div class=\"sk-label-container\"><div class=\"sk-label sk-toggleable\"><input class=\"sk-toggleable__control sk-hidden--visually\" id=\"sk-estimator-id-3\" type=\"checkbox\" ><label for=\"sk-estimator-id-3\" class=\"sk-toggleable__label sk-toggleable__label-arrow\">num</label><div class=\"sk-toggleable__content\"><pre>[&#x27;BHK&#x27;, &#x27;Size&#x27;, &#x27;Bathroom&#x27;]</pre></div></div></div><div class=\"sk-serial\"><div class=\"sk-item\"><div class=\"sk-estimator sk-toggleable\"><input class=\"sk-toggleable__control sk-hidden--visually\" id=\"sk-estimator-id-4\" type=\"checkbox\" ><label for=\"sk-estimator-id-4\" class=\"sk-toggleable__label sk-toggleable__label-arrow\">SimpleImputer</label><div class=\"sk-toggleable__content\"><pre>SimpleImputer(strategy=&#x27;most_frequent&#x27;)</pre></div></div></div></div></div></div><div class=\"sk-parallel-item\"><div class=\"sk-item\"><div class=\"sk-label-container\"><div class=\"sk-label sk-toggleable\"><input class=\"sk-toggleable__control sk-hidden--visually\" id=\"sk-estimator-id-5\" type=\"checkbox\" ><label for=\"sk-estimator-id-5\" class=\"sk-toggleable__label sk-toggleable__label-arrow\">cat</label><div class=\"sk-toggleable__content\"><pre>[&#x27;Area Type&#x27;, &#x27;City&#x27;, &#x27;Furnishing Status&#x27;]</pre></div></div></div><div class=\"sk-serial\"><div class=\"sk-item\"><div class=\"sk-serial\"><div class=\"sk-item\"><div class=\"sk-estimator sk-toggleable\"><input class=\"sk-toggleable__control sk-hidden--visually\" id=\"sk-estimator-id-6\" type=\"checkbox\" ><label for=\"sk-estimator-id-6\" class=\"sk-toggleable__label sk-toggleable__label-arrow\">SimpleImputer</label><div class=\"sk-toggleable__content\"><pre>SimpleImputer(strategy=&#x27;most_frequent&#x27;)</pre></div></div></div><div class=\"sk-item\"><div class=\"sk-estimator sk-toggleable\"><input class=\"sk-toggleable__control sk-hidden--visually\" id=\"sk-estimator-id-7\" type=\"checkbox\" ><label for=\"sk-estimator-id-7\" class=\"sk-toggleable__label sk-toggleable__label-arrow\">OneHotEncoder</label><div class=\"sk-toggleable__content\"><pre>OneHotEncoder(handle_unknown=&#x27;ignore&#x27;, sparse=False)</pre></div></div></div></div></div></div></div></div></div></div><div class=\"sk-item\"><div class=\"sk-estimator sk-toggleable\"><input class=\"sk-toggleable__control sk-hidden--visually\" id=\"sk-estimator-id-8\" type=\"checkbox\" ><label for=\"sk-estimator-id-8\" class=\"sk-toggleable__label sk-toggleable__label-arrow\">RandomForestRegressor</label><div class=\"sk-toggleable__content\"><pre>RandomForestRegressor()</pre></div></div></div></div></div></div></div>"
      ],
      "text/plain": [
       "Pipeline(steps=[('preprocess',\n",
       "                 ColumnTransformer(transformers=[('num',\n",
       "                                                  SimpleImputer(strategy='most_frequent'),\n",
       "                                                  ['BHK', 'Size', 'Bathroom']),\n",
       "                                                 ('cat',\n",
       "                                                  Pipeline(steps=[('impute',\n",
       "                                                                   SimpleImputer(strategy='most_frequent')),\n",
       "                                                                  ('encode',\n",
       "                                                                   OneHotEncoder(handle_unknown='ignore',\n",
       "                                                                                 sparse=False))]),\n",
       "                                                  ['Area Type', 'City',\n",
       "                                                   'Furnishing Status'])])),\n",
       "                ('model', RandomForestRegressor())])"
      ]
     },
     "execution_count": 10,
     "metadata": {},
     "output_type": "execute_result"
    }
   ],
   "source": [
    "my_pipeline = Pipeline(steps=[\n",
    "    ('preprocess', preprocessing),\n",
    "    ('model', model)\n",
    "])\n",
    "my_pipeline"
   ]
  },
  {
   "cell_type": "code",
   "execution_count": null,
   "metadata": {
    "execution": {
     "iopub.execute_input": "2022-09-17T12:01:08.746623Z",
     "iopub.status.busy": "2022-09-17T12:01:08.745425Z",
     "iopub.status.idle": "2022-09-17T12:01:09.420946Z",
     "shell.execute_reply": "2022-09-17T12:01:09.420025Z",
     "shell.execute_reply.started": "2022-09-17T12:01:08.74658Z"
    }
   },
   "outputs": [],
   "source": [
    "my_pipeline = my_pipeline.fit(x_train, y_train)\n",
    "preds = my_pipeline.predict(x_valid)"
   ]
  },
  {
   "cell_type": "code",
   "execution_count": null,
   "metadata": {
    "execution": {
     "iopub.execute_input": "2022-09-17T12:01:09.422928Z",
     "iopub.status.busy": "2022-09-17T12:01:09.422437Z",
     "iopub.status.idle": "2022-09-17T12:01:09.4279Z",
     "shell.execute_reply": "2022-09-17T12:01:09.426855Z",
     "shell.execute_reply.started": "2022-09-17T12:01:09.422897Z"
    }
   },
   "outputs": [],
   "source": [
    "# Compare preds to actual\n",
    "print(\"Valid MAE:\", mean_absolute_error(y_valid, preds))"
   ]
  },
  {
   "cell_type": "code",
   "execution_count": null,
   "metadata": {
    "execution": {
     "iopub.execute_input": "2022-09-17T12:01:09.605811Z",
     "iopub.status.busy": "2022-09-17T12:01:09.605376Z",
     "iopub.status.idle": "2022-09-17T12:01:09.666897Z",
     "shell.execute_reply": "2022-09-17T12:01:09.665736Z",
     "shell.execute_reply.started": "2022-09-17T12:01:09.605774Z"
    }
   },
   "outputs": [],
   "source": [
    "# Generate predictions on test set\n",
    "test_preds = my_pipeline.predict(X_test)\n",
    "print(\"Test MAE:\", mean_absolute_error(y_test, test_preds))\n",
    "pd.DataFrame(test_preds)"
   ]
  },
  {
   "cell_type": "markdown",
   "metadata": {},
   "source": [
    "## Cross Validation"
   ]
  },
  {
   "cell_type": "code",
   "execution_count": null,
   "metadata": {
    "execution": {
     "iopub.execute_input": "2022-09-17T12:17:40.980229Z",
     "iopub.status.busy": "2022-09-17T12:17:40.979746Z",
     "iopub.status.idle": "2022-09-17T12:17:40.987163Z",
     "shell.execute_reply": "2022-09-17T12:17:40.985829Z",
     "shell.execute_reply.started": "2022-09-17T12:17:40.980194Z"
    }
   },
   "outputs": [],
   "source": [
    "def get_score(n_estimators):\n",
    "    model = RandomForestRegressor(n_estimators, random_state=1)\n",
    "    my_pipeline = Pipeline(steps=[\n",
    "        ('preprocess', preprocessing),\n",
    "        ('model', model)\n",
    "    ])\n",
    "    \n",
    "    scores = -1 * cross_val_score(my_pipeline, x_train, y_train, cv=5, scoring='neg_mean_absolute_error')\n",
    "    return scores.mean()"
   ]
  },
  {
   "cell_type": "code",
   "execution_count": null,
   "metadata": {
    "execution": {
     "iopub.execute_input": "2022-09-17T12:17:41.584445Z",
     "iopub.status.busy": "2022-09-17T12:17:41.583932Z",
     "iopub.status.idle": "2022-09-17T12:17:43.110082Z",
     "shell.execute_reply": "2022-09-17T12:17:43.108796Z",
     "shell.execute_reply.started": "2022-09-17T12:17:41.584403Z"
    }
   },
   "outputs": [],
   "source": [
    "get_score(50)"
   ]
  },
  {
   "cell_type": "code",
   "execution_count": null,
   "metadata": {
    "execution": {
     "iopub.execute_input": "2022-09-17T12:18:27.081302Z",
     "iopub.status.busy": "2022-09-17T12:18:27.080806Z",
     "iopub.status.idle": "2022-09-17T12:19:17.114698Z",
     "shell.execute_reply": "2022-09-17T12:19:17.113273Z",
     "shell.execute_reply.started": "2022-09-17T12:18:27.081265Z"
    }
   },
   "outputs": [],
   "source": [
    "results = {}\n",
    "for i in range(1, 9):\n",
    "    results[i*50] = get_score(i*50)"
   ]
  },
  {
   "cell_type": "code",
   "execution_count": null,
   "metadata": {
    "execution": {
     "iopub.execute_input": "2022-09-17T12:19:17.11701Z",
     "iopub.status.busy": "2022-09-17T12:19:17.11666Z",
     "iopub.status.idle": "2022-09-17T12:19:17.12567Z",
     "shell.execute_reply": "2022-09-17T12:19:17.124429Z",
     "shell.execute_reply.started": "2022-09-17T12:19:17.116979Z"
    }
   },
   "outputs": [],
   "source": [
    "results"
   ]
  },
  {
   "cell_type": "code",
   "execution_count": null,
   "metadata": {
    "execution": {
     "iopub.execute_input": "2022-09-17T12:20:45.116195Z",
     "iopub.status.busy": "2022-09-17T12:20:45.114808Z",
     "iopub.status.idle": "2022-09-17T12:20:45.328355Z",
     "shell.execute_reply": "2022-09-17T12:20:45.32671Z",
     "shell.execute_reply.started": "2022-09-17T12:20:45.116147Z"
    }
   },
   "outputs": [],
   "source": [
    "plt.plot(list(results.keys()), list(results.values()))\n",
    "plt.xlabel('n_estimator')\n",
    "plt.ylabel('mean score')\n",
    "plt.show()"
   ]
  },
  {
   "cell_type": "markdown",
   "metadata": {},
   "source": [
    "## XG Boost"
   ]
  },
  {
   "cell_type": "code",
   "execution_count": null,
   "metadata": {
    "execution": {
     "iopub.execute_input": "2022-09-17T12:46:10.829163Z",
     "iopub.status.busy": "2022-09-17T12:46:10.828609Z",
     "iopub.status.idle": "2022-09-17T12:46:10.837701Z",
     "shell.execute_reply": "2022-09-17T12:46:10.835939Z",
     "shell.execute_reply.started": "2022-09-17T12:46:10.829124Z"
    }
   },
   "outputs": [],
   "source": [
    "model = XGBRegressor()\n",
    "\n",
    "my_pipeline = Pipeline(steps=[\n",
    "    ('preprocess', preprocessing),\n",
    "    ('model', model)\n",
    "])"
   ]
  },
  {
   "cell_type": "code",
   "execution_count": null,
   "metadata": {
    "execution": {
     "iopub.execute_input": "2022-09-17T12:46:33.326055Z",
     "iopub.status.busy": "2022-09-17T12:46:33.325559Z",
     "iopub.status.idle": "2022-09-17T12:46:34.092538Z",
     "shell.execute_reply": "2022-09-17T12:46:34.091317Z",
     "shell.execute_reply.started": "2022-09-17T12:46:33.32602Z"
    }
   },
   "outputs": [],
   "source": [
    "my_pipeline.fit(x_train, y_train)"
   ]
  },
  {
   "cell_type": "code",
   "execution_count": null,
   "metadata": {
    "execution": {
     "iopub.execute_input": "2022-09-17T12:46:56.777117Z",
     "iopub.status.busy": "2022-09-17T12:46:56.775976Z",
     "iopub.status.idle": "2022-09-17T12:46:56.797492Z",
     "shell.execute_reply": "2022-09-17T12:46:56.796439Z",
     "shell.execute_reply.started": "2022-09-17T12:46:56.777068Z"
    }
   },
   "outputs": [],
   "source": [
    "predictions = my_pipeline.predict(x_valid)"
   ]
  },
  {
   "cell_type": "code",
   "execution_count": null,
   "metadata": {
    "execution": {
     "iopub.execute_input": "2022-09-17T12:47:30.283639Z",
     "iopub.status.busy": "2022-09-17T12:47:30.282123Z",
     "iopub.status.idle": "2022-09-17T12:47:30.293401Z",
     "shell.execute_reply": "2022-09-17T12:47:30.292415Z",
     "shell.execute_reply.started": "2022-09-17T12:47:30.283573Z"
    }
   },
   "outputs": [],
   "source": [
    "mae = mean_absolute_error(y_valid, predictions)\n",
    "mae"
   ]
  }
 ],
 "metadata": {
  "kernelspec": {
   "display_name": "my-sideprojects_env",
   "language": "python",
   "name": "my-sideprojects_env"
  },
  "language_info": {
   "codemirror_mode": {
    "name": "ipython",
    "version": 3
   },
   "file_extension": ".py",
   "mimetype": "text/x-python",
   "name": "python",
   "nbconvert_exporter": "python",
   "pygments_lexer": "ipython3",
   "version": "3.10.4"
  }
 },
 "nbformat": 4,
 "nbformat_minor": 4
}
